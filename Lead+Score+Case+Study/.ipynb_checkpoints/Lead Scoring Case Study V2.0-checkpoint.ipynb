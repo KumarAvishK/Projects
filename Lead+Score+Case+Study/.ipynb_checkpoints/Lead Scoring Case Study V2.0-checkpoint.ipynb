{
 "cells": [
  {
   "cell_type": "markdown",
   "metadata": {},
   "source": [
    "> ## Lead Scoring Case Study \n",
    ">Submitted By       : ***Srinivasan. G, Naveed.J, Denny.J and Kumar.A***<br>\n",
    ">Date of Submission : ***03-March-2019***<br>\n",
    ">Batch              : ***September - 2018***<br>"
   ]
  },
  {
   "cell_type": "markdown",
   "metadata": {},
   "source": [
    "### Problem Statement"
   ]
  },
  {
   "cell_type": "markdown",
   "metadata": {},
   "source": [
    ">    An Education company facilitates  online courses to industry professionals market\n",
    "their courses on several online website, google etc., expects the people to join their courses by filling up the online form. So, based on the leads such email,phone number,online websites, TV advertisements, past referrals etc., the company communicate with the potential customers and encourge them to join their courses.<br>\n",
    "\n",
    "> Through this process some of the leads gets converted to potential customers.The current typical conversion rate is 30%.<br>\n",
    "\n",
    "> Since the conversion rate is very low, the company aims to identify 'Hot Leads' and potentially by marketing through this leads to increase the rate of conversion.The company aim to build a model wherein we assign a 'lead score' to each of the leads such that customer with higher lead scores have higher probability of joinig the course.<br>\n",
    "\n",
    "> The target ballpark `conversion rate or new lead score expected or set by the company   is around 80%`."
   ]
  },
  {
   "cell_type": "markdown",
   "metadata": {},
   "source": [
    "### Import Libraries<br>"
   ]
  },
  {
   "cell_type": "code",
   "execution_count": 1,
   "metadata": {},
   "outputs": [],
   "source": [
    "# Importing Pandas and NumPy\n",
    "import pandas as pd\n",
    "import numpy as np\n",
    "import matplotlib.pyplot as plt\n",
    "import seaborn as sns\n",
    "%matplotlib inline\n",
    "\n",
    "#Scikit learn libraries.\n",
    "from sklearn.model_selection import train_test_split\n",
    "import statsmodels.api as sm\n",
    "\n",
    "# PCA Analysis Libraries.\n",
    "from sklearn.decomposition import PCA\n",
    "\n",
    "#Logistic Regression Libraries\n",
    "from sklearn.linear_model import LogisticRegression\n",
    "from sklearn import metrics"
   ]
  },
  {
   "cell_type": "markdown",
   "metadata": {},
   "source": [
    "### Setup necessary Jupyter notebook options<br>"
   ]
  },
  {
   "cell_type": "code",
   "execution_count": 2,
   "metadata": {},
   "outputs": [],
   "source": [
    "# Set up jupyter notebook options to work.\n",
    "from IPython.display import display, HTML\n",
    "from IPython.core.interactiveshell import InteractiveShell\n",
    "InteractiveShell.ast_node_interactivity = \"all\"\n",
    "\n",
    "# If necessary use the set options of the display . If not required. disable \n",
    "pd.set_option('display.max_columns', 60)\n",
    "#pd.set_option('display.width', 1000)\n",
    "pd.set_option('display.max_colwidth', 1000)\n",
    "pd.options.display.max_rows = 999\n",
    "\n",
    "#Change the float format for display in notebook\n",
    "pd.options.display.float_format = '{:,.2f}'.format"
   ]
  },
  {
   "cell_type": "markdown",
   "metadata": {},
   "source": [
    "## Step 1: Reading and Understanding the Data"
   ]
  },
  {
   "cell_type": "code",
   "execution_count": 3,
   "metadata": {},
   "outputs": [],
   "source": [
    "## Read the Uber Request Data.csv file \n",
    "leads_data = pd.read_csv(\"./Leads.csv\")"
   ]
  },
  {
   "cell_type": "code",
   "execution_count": 4,
   "metadata": {},
   "outputs": [
    {
     "data": {
      "text/plain": [
       "(9240, 37)"
      ]
     },
     "execution_count": 4,
     "metadata": {},
     "output_type": "execute_result"
    },
    {
     "name": "stdout",
     "output_type": "stream",
     "text": [
      "<class 'pandas.core.frame.DataFrame'>\n",
      "RangeIndex: 9240 entries, 0 to 9239\n",
      "Data columns (total 37 columns):\n",
      "Prospect ID                                      9240 non-null object\n",
      "Lead Number                                      9240 non-null int64\n",
      "Lead Origin                                      9240 non-null object\n",
      "Lead Source                                      9204 non-null object\n",
      "Do Not Email                                     9240 non-null object\n",
      "Do Not Call                                      9240 non-null object\n",
      "Converted                                        9240 non-null int64\n",
      "TotalVisits                                      9103 non-null float64\n",
      "Total Time Spent on Website                      9240 non-null int64\n",
      "Page Views Per Visit                             9103 non-null float64\n",
      "Last Activity                                    9137 non-null object\n",
      "Country                                          6779 non-null object\n",
      "Specialization                                   7802 non-null object\n",
      "How did you hear about X Education               7033 non-null object\n",
      "What is your current occupation                  6550 non-null object\n",
      "What matters most to you in choosing a course    6531 non-null object\n",
      "Search                                           9240 non-null object\n",
      "Magazine                                         9240 non-null object\n",
      "Newspaper Article                                9240 non-null object\n",
      "X Education Forums                               9240 non-null object\n",
      "Newspaper                                        9240 non-null object\n",
      "Digital Advertisement                            9240 non-null object\n",
      "Through Recommendations                          9240 non-null object\n",
      "Receive More Updates About Our Courses           9240 non-null object\n",
      "Tags                                             5887 non-null object\n",
      "Lead Quality                                     4473 non-null object\n",
      "Update me on Supply Chain Content                9240 non-null object\n",
      "Get updates on DM Content                        9240 non-null object\n",
      "Lead Profile                                     6531 non-null object\n",
      "City                                             7820 non-null object\n",
      "Asymmetrique Activity Index                      5022 non-null object\n",
      "Asymmetrique Profile Index                       5022 non-null object\n",
      "Asymmetrique Activity Score                      5022 non-null float64\n",
      "Asymmetrique Profile Score                       5022 non-null float64\n",
      "I agree to pay the amount through cheque         9240 non-null object\n",
      "A free copy of Mastering The Interview           9240 non-null object\n",
      "Last Notable Activity                            9240 non-null object\n",
      "dtypes: float64(4), int64(3), object(30)\n",
      "memory usage: 2.6+ MB\n"
     ]
    }
   ],
   "source": [
    "## leads_data.shape\n",
    "leads_data.shape\n",
    "leads_data.info()"
   ]
  },
  {
   "cell_type": "code",
   "execution_count": 5,
   "metadata": {},
   "outputs": [
    {
     "data": {
      "text/html": [
       "<div>\n",
       "<style scoped>\n",
       "    .dataframe tbody tr th:only-of-type {\n",
       "        vertical-align: middle;\n",
       "    }\n",
       "\n",
       "    .dataframe tbody tr th {\n",
       "        vertical-align: top;\n",
       "    }\n",
       "\n",
       "    .dataframe thead th {\n",
       "        text-align: right;\n",
       "    }\n",
       "</style>\n",
       "<table border=\"1\" class=\"dataframe\">\n",
       "  <thead>\n",
       "    <tr style=\"text-align: right;\">\n",
       "      <th></th>\n",
       "      <th>Prospect ID</th>\n",
       "      <th>Lead Number</th>\n",
       "      <th>Lead Origin</th>\n",
       "      <th>Lead Source</th>\n",
       "      <th>Do Not Email</th>\n",
       "      <th>Do Not Call</th>\n",
       "      <th>Converted</th>\n",
       "      <th>TotalVisits</th>\n",
       "      <th>Total Time Spent on Website</th>\n",
       "      <th>Page Views Per Visit</th>\n",
       "      <th>Last Activity</th>\n",
       "      <th>Country</th>\n",
       "      <th>Specialization</th>\n",
       "      <th>How did you hear about X Education</th>\n",
       "      <th>What is your current occupation</th>\n",
       "      <th>What matters most to you in choosing a course</th>\n",
       "      <th>Search</th>\n",
       "      <th>Magazine</th>\n",
       "      <th>Newspaper Article</th>\n",
       "      <th>X Education Forums</th>\n",
       "      <th>Newspaper</th>\n",
       "      <th>Digital Advertisement</th>\n",
       "      <th>Through Recommendations</th>\n",
       "      <th>Receive More Updates About Our Courses</th>\n",
       "      <th>Tags</th>\n",
       "      <th>Lead Quality</th>\n",
       "      <th>Update me on Supply Chain Content</th>\n",
       "      <th>Get updates on DM Content</th>\n",
       "      <th>Lead Profile</th>\n",
       "      <th>City</th>\n",
       "      <th>Asymmetrique Activity Index</th>\n",
       "      <th>Asymmetrique Profile Index</th>\n",
       "      <th>Asymmetrique Activity Score</th>\n",
       "      <th>Asymmetrique Profile Score</th>\n",
       "      <th>I agree to pay the amount through cheque</th>\n",
       "      <th>A free copy of Mastering The Interview</th>\n",
       "      <th>Last Notable Activity</th>\n",
       "    </tr>\n",
       "  </thead>\n",
       "  <tbody>\n",
       "    <tr>\n",
       "      <th>0</th>\n",
       "      <td>7927b2df-8bba-4d29-b9a2-b6e0beafe620</td>\n",
       "      <td>660737</td>\n",
       "      <td>API</td>\n",
       "      <td>Olark Chat</td>\n",
       "      <td>No</td>\n",
       "      <td>No</td>\n",
       "      <td>0</td>\n",
       "      <td>0.00</td>\n",
       "      <td>0</td>\n",
       "      <td>0.00</td>\n",
       "      <td>Page Visited on Website</td>\n",
       "      <td>NaN</td>\n",
       "      <td>Select</td>\n",
       "      <td>Select</td>\n",
       "      <td>Unemployed</td>\n",
       "      <td>Better Career Prospects</td>\n",
       "      <td>No</td>\n",
       "      <td>No</td>\n",
       "      <td>No</td>\n",
       "      <td>No</td>\n",
       "      <td>No</td>\n",
       "      <td>No</td>\n",
       "      <td>No</td>\n",
       "      <td>No</td>\n",
       "      <td>Interested in other courses</td>\n",
       "      <td>Low in Relevance</td>\n",
       "      <td>No</td>\n",
       "      <td>No</td>\n",
       "      <td>Select</td>\n",
       "      <td>Select</td>\n",
       "      <td>02.Medium</td>\n",
       "      <td>02.Medium</td>\n",
       "      <td>15.00</td>\n",
       "      <td>15.00</td>\n",
       "      <td>No</td>\n",
       "      <td>No</td>\n",
       "      <td>Modified</td>\n",
       "    </tr>\n",
       "    <tr>\n",
       "      <th>1</th>\n",
       "      <td>2a272436-5132-4136-86fa-dcc88c88f482</td>\n",
       "      <td>660728</td>\n",
       "      <td>API</td>\n",
       "      <td>Organic Search</td>\n",
       "      <td>No</td>\n",
       "      <td>No</td>\n",
       "      <td>0</td>\n",
       "      <td>5.00</td>\n",
       "      <td>674</td>\n",
       "      <td>2.50</td>\n",
       "      <td>Email Opened</td>\n",
       "      <td>India</td>\n",
       "      <td>Select</td>\n",
       "      <td>Select</td>\n",
       "      <td>Unemployed</td>\n",
       "      <td>Better Career Prospects</td>\n",
       "      <td>No</td>\n",
       "      <td>No</td>\n",
       "      <td>No</td>\n",
       "      <td>No</td>\n",
       "      <td>No</td>\n",
       "      <td>No</td>\n",
       "      <td>No</td>\n",
       "      <td>No</td>\n",
       "      <td>Ringing</td>\n",
       "      <td>NaN</td>\n",
       "      <td>No</td>\n",
       "      <td>No</td>\n",
       "      <td>Select</td>\n",
       "      <td>Select</td>\n",
       "      <td>02.Medium</td>\n",
       "      <td>02.Medium</td>\n",
       "      <td>15.00</td>\n",
       "      <td>15.00</td>\n",
       "      <td>No</td>\n",
       "      <td>No</td>\n",
       "      <td>Email Opened</td>\n",
       "    </tr>\n",
       "    <tr>\n",
       "      <th>2</th>\n",
       "      <td>8cc8c611-a219-4f35-ad23-fdfd2656bd8a</td>\n",
       "      <td>660727</td>\n",
       "      <td>Landing Page Submission</td>\n",
       "      <td>Direct Traffic</td>\n",
       "      <td>No</td>\n",
       "      <td>No</td>\n",
       "      <td>1</td>\n",
       "      <td>2.00</td>\n",
       "      <td>1532</td>\n",
       "      <td>2.00</td>\n",
       "      <td>Email Opened</td>\n",
       "      <td>India</td>\n",
       "      <td>Business Administration</td>\n",
       "      <td>Select</td>\n",
       "      <td>Student</td>\n",
       "      <td>Better Career Prospects</td>\n",
       "      <td>No</td>\n",
       "      <td>No</td>\n",
       "      <td>No</td>\n",
       "      <td>No</td>\n",
       "      <td>No</td>\n",
       "      <td>No</td>\n",
       "      <td>No</td>\n",
       "      <td>No</td>\n",
       "      <td>Will revert after reading the email</td>\n",
       "      <td>Might be</td>\n",
       "      <td>No</td>\n",
       "      <td>No</td>\n",
       "      <td>Potential Lead</td>\n",
       "      <td>Mumbai</td>\n",
       "      <td>02.Medium</td>\n",
       "      <td>01.High</td>\n",
       "      <td>14.00</td>\n",
       "      <td>20.00</td>\n",
       "      <td>No</td>\n",
       "      <td>Yes</td>\n",
       "      <td>Email Opened</td>\n",
       "    </tr>\n",
       "    <tr>\n",
       "      <th>3</th>\n",
       "      <td>0cc2df48-7cf4-4e39-9de9-19797f9b38cc</td>\n",
       "      <td>660719</td>\n",
       "      <td>Landing Page Submission</td>\n",
       "      <td>Direct Traffic</td>\n",
       "      <td>No</td>\n",
       "      <td>No</td>\n",
       "      <td>0</td>\n",
       "      <td>1.00</td>\n",
       "      <td>305</td>\n",
       "      <td>1.00</td>\n",
       "      <td>Unreachable</td>\n",
       "      <td>India</td>\n",
       "      <td>Media and Advertising</td>\n",
       "      <td>Word Of Mouth</td>\n",
       "      <td>Unemployed</td>\n",
       "      <td>Better Career Prospects</td>\n",
       "      <td>No</td>\n",
       "      <td>No</td>\n",
       "      <td>No</td>\n",
       "      <td>No</td>\n",
       "      <td>No</td>\n",
       "      <td>No</td>\n",
       "      <td>No</td>\n",
       "      <td>No</td>\n",
       "      <td>Ringing</td>\n",
       "      <td>Not Sure</td>\n",
       "      <td>No</td>\n",
       "      <td>No</td>\n",
       "      <td>Select</td>\n",
       "      <td>Mumbai</td>\n",
       "      <td>02.Medium</td>\n",
       "      <td>01.High</td>\n",
       "      <td>13.00</td>\n",
       "      <td>17.00</td>\n",
       "      <td>No</td>\n",
       "      <td>No</td>\n",
       "      <td>Modified</td>\n",
       "    </tr>\n",
       "    <tr>\n",
       "      <th>4</th>\n",
       "      <td>3256f628-e534-4826-9d63-4a8b88782852</td>\n",
       "      <td>660681</td>\n",
       "      <td>Landing Page Submission</td>\n",
       "      <td>Google</td>\n",
       "      <td>No</td>\n",
       "      <td>No</td>\n",
       "      <td>1</td>\n",
       "      <td>2.00</td>\n",
       "      <td>1428</td>\n",
       "      <td>1.00</td>\n",
       "      <td>Converted to Lead</td>\n",
       "      <td>India</td>\n",
       "      <td>Select</td>\n",
       "      <td>Other</td>\n",
       "      <td>Unemployed</td>\n",
       "      <td>Better Career Prospects</td>\n",
       "      <td>No</td>\n",
       "      <td>No</td>\n",
       "      <td>No</td>\n",
       "      <td>No</td>\n",
       "      <td>No</td>\n",
       "      <td>No</td>\n",
       "      <td>No</td>\n",
       "      <td>No</td>\n",
       "      <td>Will revert after reading the email</td>\n",
       "      <td>Might be</td>\n",
       "      <td>No</td>\n",
       "      <td>No</td>\n",
       "      <td>Select</td>\n",
       "      <td>Mumbai</td>\n",
       "      <td>02.Medium</td>\n",
       "      <td>01.High</td>\n",
       "      <td>15.00</td>\n",
       "      <td>18.00</td>\n",
       "      <td>No</td>\n",
       "      <td>No</td>\n",
       "      <td>Modified</td>\n",
       "    </tr>\n",
       "  </tbody>\n",
       "</table>\n",
       "</div>"
      ],
      "text/plain": [
       "                            Prospect ID  Lead Number              Lead Origin  \\\n",
       "0  7927b2df-8bba-4d29-b9a2-b6e0beafe620       660737                      API   \n",
       "1  2a272436-5132-4136-86fa-dcc88c88f482       660728                      API   \n",
       "2  8cc8c611-a219-4f35-ad23-fdfd2656bd8a       660727  Landing Page Submission   \n",
       "3  0cc2df48-7cf4-4e39-9de9-19797f9b38cc       660719  Landing Page Submission   \n",
       "4  3256f628-e534-4826-9d63-4a8b88782852       660681  Landing Page Submission   \n",
       "\n",
       "      Lead Source Do Not Email Do Not Call  Converted  TotalVisits  \\\n",
       "0      Olark Chat           No          No          0         0.00   \n",
       "1  Organic Search           No          No          0         5.00   \n",
       "2  Direct Traffic           No          No          1         2.00   \n",
       "3  Direct Traffic           No          No          0         1.00   \n",
       "4          Google           No          No          1         2.00   \n",
       "\n",
       "   Total Time Spent on Website  Page Views Per Visit            Last Activity  \\\n",
       "0                            0                  0.00  Page Visited on Website   \n",
       "1                          674                  2.50             Email Opened   \n",
       "2                         1532                  2.00             Email Opened   \n",
       "3                          305                  1.00              Unreachable   \n",
       "4                         1428                  1.00        Converted to Lead   \n",
       "\n",
       "  Country           Specialization How did you hear about X Education  \\\n",
       "0     NaN                   Select                             Select   \n",
       "1   India                   Select                             Select   \n",
       "2   India  Business Administration                             Select   \n",
       "3   India    Media and Advertising                      Word Of Mouth   \n",
       "4   India                   Select                              Other   \n",
       "\n",
       "  What is your current occupation  \\\n",
       "0                      Unemployed   \n",
       "1                      Unemployed   \n",
       "2                         Student   \n",
       "3                      Unemployed   \n",
       "4                      Unemployed   \n",
       "\n",
       "  What matters most to you in choosing a course Search Magazine  \\\n",
       "0                       Better Career Prospects     No       No   \n",
       "1                       Better Career Prospects     No       No   \n",
       "2                       Better Career Prospects     No       No   \n",
       "3                       Better Career Prospects     No       No   \n",
       "4                       Better Career Prospects     No       No   \n",
       "\n",
       "  Newspaper Article X Education Forums Newspaper Digital Advertisement  \\\n",
       "0                No                 No        No                    No   \n",
       "1                No                 No        No                    No   \n",
       "2                No                 No        No                    No   \n",
       "3                No                 No        No                    No   \n",
       "4                No                 No        No                    No   \n",
       "\n",
       "  Through Recommendations Receive More Updates About Our Courses  \\\n",
       "0                      No                                     No   \n",
       "1                      No                                     No   \n",
       "2                      No                                     No   \n",
       "3                      No                                     No   \n",
       "4                      No                                     No   \n",
       "\n",
       "                                  Tags      Lead Quality  \\\n",
       "0          Interested in other courses  Low in Relevance   \n",
       "1                              Ringing               NaN   \n",
       "2  Will revert after reading the email          Might be   \n",
       "3                              Ringing          Not Sure   \n",
       "4  Will revert after reading the email          Might be   \n",
       "\n",
       "  Update me on Supply Chain Content Get updates on DM Content    Lead Profile  \\\n",
       "0                                No                        No          Select   \n",
       "1                                No                        No          Select   \n",
       "2                                No                        No  Potential Lead   \n",
       "3                                No                        No          Select   \n",
       "4                                No                        No          Select   \n",
       "\n",
       "     City Asymmetrique Activity Index Asymmetrique Profile Index  \\\n",
       "0  Select                   02.Medium                  02.Medium   \n",
       "1  Select                   02.Medium                  02.Medium   \n",
       "2  Mumbai                   02.Medium                    01.High   \n",
       "3  Mumbai                   02.Medium                    01.High   \n",
       "4  Mumbai                   02.Medium                    01.High   \n",
       "\n",
       "   Asymmetrique Activity Score  Asymmetrique Profile Score  \\\n",
       "0                        15.00                       15.00   \n",
       "1                        15.00                       15.00   \n",
       "2                        14.00                       20.00   \n",
       "3                        13.00                       17.00   \n",
       "4                        15.00                       18.00   \n",
       "\n",
       "  I agree to pay the amount through cheque  \\\n",
       "0                                       No   \n",
       "1                                       No   \n",
       "2                                       No   \n",
       "3                                       No   \n",
       "4                                       No   \n",
       "\n",
       "  A free copy of Mastering The Interview Last Notable Activity  \n",
       "0                                     No              Modified  \n",
       "1                                     No          Email Opened  \n",
       "2                                    Yes          Email Opened  \n",
       "3                                     No              Modified  \n",
       "4                                     No              Modified  "
      ]
     },
     "execution_count": 5,
     "metadata": {},
     "output_type": "execute_result"
    }
   ],
   "source": [
    "leads_data.head(5)"
   ]
  },
  {
   "cell_type": "markdown",
   "metadata": {},
   "source": [
    "#### **Observations**<br>\n",
    "> - There are `9240 rows` and `37 columns` in the original data frame cars.<br>\n",
    "> - There are `7 Numerical Variables and 30 categorical Variables`.<br>\n",
    "\n",
    "> - **30 - Categorical Independent Variables** - \n",
    "  - `Prospect ID`,`Lead Origin`,`Lead Source`,`Do Not Email,Do Not Call`,\n",
    "  - `Last Activity`,`Country`,`Specialization`,`How did you hear about X Education`,\n",
    "  - `What is your current occupation`,\n",
    "  - `What matters most to you in choosing a course`,\n",
    "  - `Search`,`Magazine`,`Newspaper Article`,`X Education Forums`,`Newspaper`,\n",
    "  - `Digital Advertisement`,`Through Recommendations`,\n",
    "  - `Receive More Updates About Our Courses`,`Tags`,`Lead Quality`,\n",
    "  - `Update me on Supply Chain Content`,\n",
    "  - `Get updates on DM Content`,`Lead Profile`,\n",
    "  - `City`,`Asymmetrique Activity Index`,\n",
    "  - `Asymmetrique Profile Index`,\n",
    "  - `I agree to pay the amount through cheque`,\n",
    "  - `A free copy of Mastering The Interview`,\n",
    "  - `Last Notable Activity`<br>\n",
    "  \n",
    "> - **7 - Numeric Independent variables** \n",
    "  - `Lead Number`,`TotalVisits`,`Total Time Spent on Website`, \n",
    "  - `Page Views Per Visit`,\n",
    "  - `Asymmetrique Activity Score`, `Asymmetrique Profile Score`<br>\n",
    "  \n",
    "> - **The dependent Numeric (response/target Variable)** \n",
    "  -   `Converted`<br>\n",
    "\n",
    "#### **Inferences** <br>\n",
    "> - Lots of categorical variables and hence need to verify significance of those variables on the dependent variable.\n",
    "> - The `Prospect ID` and `Lead Number` column are not useful  in the analysis and hence can be dropped.\n",
    "> - Less Significant and single value columns can be dropped. They are ;\n",
    "    - `Magazine`, `Receive More Updates About Our Courses`,\n",
    "    - `Update me on Supply Chain Content`,`Get updates on DM Content`,\n",
    "    - `I agree to pay the amount through cheque`\n",
    "> - Many columns have null value and hence needs clean up."
   ]
  },
  {
   "cell_type": "markdown",
   "metadata": {},
   "source": [
    "### Step 1.1 : Dropping insignificant or not useful columns"
   ]
  },
  {
   "cell_type": "code",
   "execution_count": 6,
   "metadata": {},
   "outputs": [],
   "source": [
    "# Insignificant or not useful columns.\n",
    "colNames = ['Prospect ID','Lead Number','Magazine',\n",
    "            'Receive More Updates About Our Courses',\n",
    "            'Update me on Supply Chain Content',\n",
    "            'Get updates on DM Content',\n",
    "            'I agree to pay the amount through cheque'\n",
    "           ]\n",
    "leads_data.drop(columns=colNames,axis=1,inplace=True)"
   ]
  },
  {
   "cell_type": "code",
   "execution_count": 7,
   "metadata": {},
   "outputs": [
    {
     "data": {
      "text/plain": [
       "(9240, 30)"
      ]
     },
     "execution_count": 7,
     "metadata": {},
     "output_type": "execute_result"
    }
   ],
   "source": [
    "leads_data.shape"
   ]
  },
  {
   "cell_type": "markdown",
   "metadata": {},
   "source": [
    "## Step 2: Data Cleaning and Preparation"
   ]
  },
  {
   "cell_type": "code",
   "execution_count": null,
   "metadata": {},
   "outputs": [],
   "source": []
  },
  {
   "cell_type": "code",
   "execution_count": 8,
   "metadata": {},
   "outputs": [],
   "source": [
    "### Step 2.1: Convert all the categorical variables to lower case.\n",
    "leads_data = leads_data.applymap(lambda s: s.lower() if type(s) == str else s)"
   ]
  },
  {
   "cell_type": "markdown",
   "metadata": {},
   "source": [
    "### Step 2.1: Verify the rows where all columns have null values  "
   ]
  },
  {
   "cell_type": "code",
   "execution_count": 9,
   "metadata": {},
   "outputs": [
    {
     "data": {
      "text/plain": [
       "0"
      ]
     },
     "execution_count": 9,
     "metadata": {},
     "output_type": "execute_result"
    }
   ],
   "source": [
    "leads_data.isnull().all(axis=0).sum()"
   ]
  },
  {
   "cell_type": "markdown",
   "metadata": {},
   "source": [
    "### Step 2.1: Verify the percentage Null columns"
   ]
  },
  {
   "cell_type": "code",
   "execution_count": 10,
   "metadata": {},
   "outputs": [
    {
     "data": {
      "text/plain": [
       "Lead Origin                                      0.00\n",
       "Lead Source                                      0.39\n",
       "Do Not Email                                     0.00\n",
       "Do Not Call                                      0.00\n",
       "Converted                                        0.00\n",
       "TotalVisits                                      1.48\n",
       "Total Time Spent on Website                      0.00\n",
       "Page Views Per Visit                             1.48\n",
       "Last Activity                                    1.11\n",
       "Country                                         26.63\n",
       "Specialization                                  15.56\n",
       "How did you hear about X Education              23.89\n",
       "What is your current occupation                 29.11\n",
       "What matters most to you in choosing a course   29.32\n",
       "Search                                           0.00\n",
       "Newspaper Article                                0.00\n",
       "X Education Forums                               0.00\n",
       "Newspaper                                        0.00\n",
       "Digital Advertisement                            0.00\n",
       "Through Recommendations                          0.00\n",
       "Tags                                            36.29\n",
       "Lead Quality                                    51.59\n",
       "Lead Profile                                    29.32\n",
       "City                                            15.37\n",
       "Asymmetrique Activity Index                     45.65\n",
       "Asymmetrique Profile Index                      45.65\n",
       "Asymmetrique Activity Score                     45.65\n",
       "Asymmetrique Profile Score                      45.65\n",
       "A free copy of Mastering The Interview           0.00\n",
       "Last Notable Activity                            0.00\n",
       "dtype: float64"
      ]
     },
     "execution_count": 10,
     "metadata": {},
     "output_type": "execute_result"
    }
   ],
   "source": [
    "# find out the percentage of nulls in data frame.\n",
    "round(100*(leads_data.isnull().sum()/len(leads_data.index)), 2)"
   ]
  },
  {
   "cell_type": "markdown",
   "metadata": {},
   "source": [
    "#### **Observations**<br>\n",
    "> - There are 17 columns have null values. They are ;\n",
    "  - `Lead Source`,`TotalVisits`,`Page Views Per Visit`,\n",
    "  - `Last Activity`,`Country`,`Specialization`,`How did you hear about X Education`,\n",
    "  - `What is your current occupation`,`What matters most to you in choosing a course`,\n",
    "  - `Tags`,`Lead Quality`,`Lead Profile`,`City`,`Asymmetrique Activity Index`,\n",
    "  - `Asymmetrique Profile Index`,`Asymmetrique Activity Score`,\n",
    "  - `Asymmetrique Profile Score`<br>"
   ]
  },
  {
   "cell_type": "markdown",
   "metadata": {},
   "source": [
    "### Step 2.2: Imputation of Null values for Categorical Columns"
   ]
  },
  {
   "cell_type": "markdown",
   "metadata": {},
   "source": [
    "#### 2.2.1 - Columns Lead Source, Last Activity, Country and Tags. "
   ]
  },
  {
   "cell_type": "code",
   "execution_count": 11,
   "metadata": {},
   "outputs": [
    {
     "name": "stdout",
     "output_type": "stream",
     "text": [
      "Lead Source        36\n",
      "Last Activity     103\n",
      "Country          2461\n",
      "Tags             3353\n",
      "dtype: int64\n"
     ]
    }
   ],
   "source": [
    "# Verify columns for is null and replace the null values with 'unknown'\n",
    "cols = ['Lead Source','Last Activity','Country','Tags']\n",
    "\n",
    "#\n",
    "print (leads_data[cols].isnull().sum())"
   ]
  },
  {
   "cell_type": "code",
   "execution_count": 12,
   "metadata": {},
   "outputs": [],
   "source": [
    "# Replace the column values with unknown.\n",
    "for col in cols:\n",
    "    leads_data.loc[(leads_data[col].isnull()),col] = 'unknown'"
   ]
  },
  {
   "cell_type": "code",
   "execution_count": 13,
   "metadata": {},
   "outputs": [
    {
     "data": {
      "text/plain": [
       "google               2873\n",
       "direct traffic       2543\n",
       "olark chat           1755\n",
       "organic search       1154\n",
       "reference             534\n",
       "welingak website      142\n",
       "referral sites        125\n",
       "facebook               55\n",
       "unknown                36\n",
       "bing                    6\n",
       "click2call              4\n",
       "press_release           2\n",
       "live chat               2\n",
       "social media            2\n",
       "testone                 1\n",
       "youtubechannel          1\n",
       "blog                    1\n",
       "welearn                 1\n",
       "pay per click ads       1\n",
       "nc_edm                  1\n",
       "welearnblog_home        1\n",
       "Name: Lead Source, dtype: int64"
      ]
     },
     "execution_count": 13,
     "metadata": {},
     "output_type": "execute_result"
    },
    {
     "data": {
      "text/plain": [
       "email opened                    3437\n",
       "sms sent                        2745\n",
       "olark chat conversation          973\n",
       "page visited on website          640\n",
       "converted to lead                428\n",
       "email bounced                    326\n",
       "email link clicked               267\n",
       "form submitted on website        116\n",
       "unknown                          103\n",
       "unreachable                       93\n",
       "unsubscribed                      61\n",
       "had a phone conversation          30\n",
       "approached upfront                 9\n",
       "view in browser link clicked       6\n",
       "email received                     2\n",
       "email marked spam                  2\n",
       "visited booth in tradeshow         1\n",
       "resubscribed to emails             1\n",
       "Name: Last Activity, dtype: int64"
      ]
     },
     "execution_count": 13,
     "metadata": {},
     "output_type": "execute_result"
    },
    {
     "data": {
      "text/plain": [
       "india                   6492\n",
       "unknown                 2466\n",
       "united states             69\n",
       "united arab emirates      53\n",
       "singapore                 24\n",
       "saudi arabia              21\n",
       "united kingdom            15\n",
       "australia                 13\n",
       "qatar                     10\n",
       "hong kong                  7\n",
       "bahrain                    7\n",
       "france                     6\n",
       "oman                       6\n",
       "south africa               4\n",
       "kuwait                     4\n",
       "nigeria                    4\n",
       "germany                    4\n",
       "canada                     4\n",
       "sweden                     3\n",
       "bangladesh                 2\n",
       "netherlands                2\n",
       "china                      2\n",
       "uganda                     2\n",
       "belgium                    2\n",
       "asia/pacific region        2\n",
       "philippines                2\n",
       "ghana                      2\n",
       "italy                      2\n",
       "indonesia                  1\n",
       "liberia                    1\n",
       "tanzania                   1\n",
       "kenya                      1\n",
       "switzerland                1\n",
       "russia                     1\n",
       "sri lanka                  1\n",
       "malaysia                   1\n",
       "denmark                    1\n",
       "vietnam                    1\n",
       "Name: Country, dtype: int64"
      ]
     },
     "execution_count": 13,
     "metadata": {},
     "output_type": "execute_result"
    },
    {
     "data": {
      "text/plain": [
       "unknown                                              3353\n",
       "will revert after reading the email                  2072\n",
       "ringing                                              1203\n",
       "interested in other courses                           513\n",
       "already a student                                     465\n",
       "closed by horizzon                                    358\n",
       "switched off                                          240\n",
       "busy                                                  186\n",
       "lost to eins                                          175\n",
       "not doing further education                           145\n",
       "interested  in full time mba                          117\n",
       "graduation in progress                                111\n",
       "invalid number                                         83\n",
       "diploma holder (not eligible)                          63\n",
       "wrong number given                                     47\n",
       "opp hangup                                             33\n",
       "number not provided                                    27\n",
       "in touch with eins                                     12\n",
       "lost to others                                          7\n",
       "still thinking                                          6\n",
       "want to take admission but has financial problems       6\n",
       "in confusion whether part time or dlp                   5\n",
       "interested in next batch                                5\n",
       "lateral student                                         3\n",
       "shall take in the next coming month                     2\n",
       "university not recognized                               2\n",
       "recognition issue (dec approval)                        1\n",
       "Name: Tags, dtype: int64"
      ]
     },
     "execution_count": 13,
     "metadata": {},
     "output_type": "execute_result"
    }
   ],
   "source": [
    "# verify the value counts.\n",
    "for col in cols:\n",
    "    leads_data[col].value_counts()"
   ]
  },
  {
   "cell_type": "code",
   "execution_count": 14,
   "metadata": {},
   "outputs": [
    {
     "data": {
      "text/plain": [
       "Lead Origin                                      0.00\n",
       "Lead Source                                      0.00\n",
       "Do Not Email                                     0.00\n",
       "Do Not Call                                      0.00\n",
       "Converted                                        0.00\n",
       "TotalVisits                                      1.48\n",
       "Total Time Spent on Website                      0.00\n",
       "Page Views Per Visit                             1.48\n",
       "Last Activity                                    0.00\n",
       "Country                                          0.00\n",
       "Specialization                                  15.56\n",
       "How did you hear about X Education              23.89\n",
       "What is your current occupation                 29.11\n",
       "What matters most to you in choosing a course   29.32\n",
       "Search                                           0.00\n",
       "Newspaper Article                                0.00\n",
       "X Education Forums                               0.00\n",
       "Newspaper                                        0.00\n",
       "Digital Advertisement                            0.00\n",
       "Through Recommendations                          0.00\n",
       "Tags                                             0.00\n",
       "Lead Quality                                    51.59\n",
       "Lead Profile                                    29.32\n",
       "City                                            15.37\n",
       "Asymmetrique Activity Index                     45.65\n",
       "Asymmetrique Profile Index                      45.65\n",
       "Asymmetrique Activity Score                     45.65\n",
       "Asymmetrique Profile Score                      45.65\n",
       "A free copy of Mastering The Interview           0.00\n",
       "Last Notable Activity                            0.00\n",
       "dtype: float64"
      ]
     },
     "execution_count": 14,
     "metadata": {},
     "output_type": "execute_result"
    }
   ],
   "source": [
    "# find out the percentage of nulls in data frame.\n",
    "round(100*(leads_data.isnull().sum()/len(leads_data.index)), 2)"
   ]
  },
  {
   "cell_type": "markdown",
   "metadata": {},
   "source": [
    "#### **Observations**<br>\n",
    "> The Null values in the columns below has been replaced with value 'unknown'\n",
    "  - `Lead Source`\n",
    "  - `Last Activity`\n",
    "  - `Country`\n",
    "  - `Tags`"
   ]
  },
  {
   "cell_type": "markdown",
   "metadata": {},
   "source": [
    "#### 2.2.2 - For Columns 'Specialization',  'How did you hear about X Education', 'What is your current occupation', and  'What matters most to you in choosing a course'."
   ]
  },
  {
   "cell_type": "code",
   "execution_count": 15,
   "metadata": {},
   "outputs": [
    {
     "name": "stdout",
     "output_type": "stream",
     "text": [
      "Number of null values in Specialization:  1438\n"
     ]
    },
    {
     "data": {
      "text/plain": [
       "select                               1942\n",
       "finance management                    976\n",
       "human resource management             848\n",
       "marketing management                  838\n",
       "operations management                 503\n",
       "business administration               403\n",
       "it projects management                366\n",
       "supply chain management               349\n",
       "banking, investment and insurance     338\n",
       "travel and tourism                    203\n",
       "media and advertising                 203\n",
       "international business                178\n",
       "healthcare management                 159\n",
       "hospitality management                114\n",
       "e-commerce                            112\n",
       "retail management                     100\n",
       "rural and agribusiness                 73\n",
       "e-business                             57\n",
       "services excellence                    40\n",
       "Name: Specialization, dtype: int64"
      ]
     },
     "execution_count": 15,
     "metadata": {},
     "output_type": "execute_result"
    },
    {
     "data": {
      "text/plain": [
       "unknown                              3380\n",
       "finance management                    976\n",
       "human resource management             848\n",
       "marketing management                  838\n",
       "operations management                 503\n",
       "business administration               403\n",
       "it projects management                366\n",
       "supply chain management               349\n",
       "banking, investment and insurance     338\n",
       "travel and tourism                    203\n",
       "media and advertising                 203\n",
       "international business                178\n",
       "healthcare management                 159\n",
       "hospitality management                114\n",
       "e-commerce                            112\n",
       "retail management                     100\n",
       "rural and agribusiness                 73\n",
       "e-business                             57\n",
       "services excellence                    40\n",
       "Name: Specialization, dtype: int64"
      ]
     },
     "execution_count": 15,
     "metadata": {},
     "output_type": "execute_result"
    }
   ],
   "source": [
    "# Verify categorical columns which have multiple columns but with null values\n",
    "# which can be classified as others.\n",
    "\n",
    "print(\"Number of null values in Specialization: \",\n",
    "                leads_data['Specialization'].isnull().sum())\n",
    "\n",
    "# Check the value counts\n",
    "leads_data['Specialization'].value_counts()\n",
    "\n",
    "# Replace the blank and select column value with others.\n",
    "leads_data.loc[(leads_data['Specialization'].isnull()),'Specialization'] = 'unknown'\n",
    "leads_data.loc[(leads_data['Specialization'] == 'select'),'Specialization'] = 'unknown'\n",
    "\n",
    "# check the value counts for specialization of imputing null values.\n",
    "leads_data['Specialization'].value_counts()"
   ]
  },
  {
   "cell_type": "code",
   "execution_count": 16,
   "metadata": {},
   "outputs": [
    {
     "name": "stdout",
     "output_type": "stream",
     "text": [
      "Number of Nulls in How did you hear about X Education:  2207\n"
     ]
    },
    {
     "data": {
      "text/plain": [
       "select                   5043\n",
       "online search             808\n",
       "word of mouth             348\n",
       "student of someschool     310\n",
       "other                     186\n",
       "multiple sources          152\n",
       "advertisements             70\n",
       "social media               67\n",
       "email                      26\n",
       "sms                        23\n",
       "Name: How did you hear about X Education, dtype: int64"
      ]
     },
     "execution_count": 16,
     "metadata": {},
     "output_type": "execute_result"
    },
    {
     "data": {
      "text/plain": [
       "unknown                  7250\n",
       "online search             808\n",
       "word of mouth             348\n",
       "student of someschool     310\n",
       "others                    186\n",
       "multiple sources          152\n",
       "advertisements             70\n",
       "social media               67\n",
       "email                      26\n",
       "sms                        23\n",
       "Name: How did you hear about X Education, dtype: int64"
      ]
     },
     "execution_count": 16,
     "metadata": {},
     "output_type": "execute_result"
    }
   ],
   "source": [
    "#Imputing for `How did you hear about X Education column`\n",
    "#\n",
    "# Verify the Null values in the column `how did you hear about X Education column`\n",
    "\n",
    "print(\"Number of Nulls in How did you hear about X Education: \",\n",
    "         leads_data['How did you hear about X Education'].isnull().sum())\n",
    "\n",
    "# check the value counts for How did you hear about X Education\n",
    "      \n",
    "leads_data['How did you hear about X Education'].value_counts()\n",
    "      \n",
    "# Replace the blank,select to 'unknown' and other values to 'others'.\n",
    "#\n",
    "leads_data.loc[(leads_data['How did you hear about X Education'].isnull()),\n",
    "                                'How did you hear about X Education'] = 'unknown'\n",
    "leads_data.loc[(leads_data['How did you hear about X Education'] == 'select'),\n",
    "                                'How did you hear about X Education'] = 'unknown'\n",
    "leads_data.loc[(leads_data['How did you hear about X Education'] == 'other'),\n",
    "                                'How did you hear about X Education'] = 'others'\n",
    "\n",
    "# check the value counts for specialization\n",
    "leads_data['How did you hear about X Education'].value_counts()"
   ]
  },
  {
   "cell_type": "code",
   "execution_count": 17,
   "metadata": {},
   "outputs": [
    {
     "name": "stdout",
     "output_type": "stream",
     "text": [
      "Number of Nulls in What is your current occupation:  2690\n"
     ]
    },
    {
     "data": {
      "text/plain": [
       "unemployed              5600\n",
       "working professional     706\n",
       "student                  210\n",
       "other                     16\n",
       "housewife                 10\n",
       "businessman                8\n",
       "Name: What is your current occupation, dtype: int64"
      ]
     },
     "execution_count": 17,
     "metadata": {},
     "output_type": "execute_result"
    },
    {
     "data": {
      "text/plain": [
       "unemployed              5600\n",
       "unknown                 2690\n",
       "working professional     706\n",
       "student                  210\n",
       "others                    16\n",
       "housewife                 10\n",
       "businessman                8\n",
       "Name: What is your current occupation, dtype: int64"
      ]
     },
     "execution_count": 17,
     "metadata": {},
     "output_type": "execute_result"
    }
   ],
   "source": [
    "#Imputing for column 'What is your current occupation'\n",
    "#\n",
    "#\n",
    "# Verify the Null values in the column 'What is your current occupation'\n",
    "print(\"Number of Nulls in What is your current occupation: \",\n",
    "      leads_data['What is your current occupation'].isnull().sum())\n",
    "\n",
    "# check the value counts for specialization\n",
    "leads_data['What is your current occupation'].value_counts()\n",
    "\n",
    "# Replace the blank and other values values with value 'others'.\n",
    "#\n",
    "leads_data.loc[(leads_data['What is your current occupation'].isnull()),\n",
    "                                'What is your current occupation'] = 'unknown'\n",
    "\n",
    "leads_data.loc[(leads_data['What is your current occupation'] == 'other'),\n",
    "                                'What is your current occupation'] = 'others'\n",
    "\n",
    "# check the value counts for specialization post imputation.\n",
    "leads_data['What is your current occupation'].value_counts()"
   ]
  },
  {
   "cell_type": "code",
   "execution_count": 18,
   "metadata": {},
   "outputs": [
    {
     "name": "stdout",
     "output_type": "stream",
     "text": [
      "Number of Nulls in What matters most to you in choosing a course:  2709\n"
     ]
    },
    {
     "data": {
      "text/plain": [
       "better career prospects      6528\n",
       "flexibility & convenience       2\n",
       "other                           1\n",
       "Name: What matters most to you in choosing a course, dtype: int64"
      ]
     },
     "execution_count": 18,
     "metadata": {},
     "output_type": "execute_result"
    },
    {
     "data": {
      "text/plain": [
       "better career prospects      6528\n",
       "Not Decided                  2709\n",
       "flexibility & convenience       2\n",
       "others                          1\n",
       "Name: What matters most to you in choosing a course, dtype: int64"
      ]
     },
     "execution_count": 18,
     "metadata": {},
     "output_type": "execute_result"
    }
   ],
   "source": [
    "#Imputing for column 'What matters most to you in choosing a course'\n",
    "#\n",
    "# Verify the Null values in the column 'What is your current occupation'\n",
    "print(\"Number of Nulls in What matters most to you in choosing a course: \",\n",
    "          leads_data['What matters most to you in choosing a course'].isnull().sum())\n",
    "    \n",
    "# check the value counts for What is your current occupation'\n",
    "leads_data['What matters most to you in choosing a course'].value_counts()\n",
    "\n",
    "# Replace the blank,select and other values values with value 'others'.\n",
    "#\n",
    "leads_data.loc[(leads_data['What matters most to you in choosing a course'].isnull()),\n",
    "                           'What matters most to you in choosing a course'] = 'Not Decided'\n",
    "#\n",
    "\n",
    "leads_data.loc[(leads_data['What matters most to you in choosing a course'] == 'other'),\n",
    "                           'What matters most to you in choosing a course'] = 'others'\n",
    "\n",
    "# check the value counts for What is your current occupation' post imputation.\n",
    "\n",
    "leads_data['What matters most to you in choosing a course'].value_counts()"
   ]
  },
  {
   "cell_type": "code",
   "execution_count": 19,
   "metadata": {},
   "outputs": [
    {
     "data": {
      "text/plain": [
       "Lead Origin                                      0.00\n",
       "Lead Source                                      0.00\n",
       "Do Not Email                                     0.00\n",
       "Do Not Call                                      0.00\n",
       "Converted                                        0.00\n",
       "TotalVisits                                      1.48\n",
       "Total Time Spent on Website                      0.00\n",
       "Page Views Per Visit                             1.48\n",
       "Last Activity                                    0.00\n",
       "Country                                          0.00\n",
       "Specialization                                   0.00\n",
       "How did you hear about X Education               0.00\n",
       "What is your current occupation                  0.00\n",
       "What matters most to you in choosing a course    0.00\n",
       "Search                                           0.00\n",
       "Newspaper Article                                0.00\n",
       "X Education Forums                               0.00\n",
       "Newspaper                                        0.00\n",
       "Digital Advertisement                            0.00\n",
       "Through Recommendations                          0.00\n",
       "Tags                                             0.00\n",
       "Lead Quality                                    51.59\n",
       "Lead Profile                                    29.32\n",
       "City                                            15.37\n",
       "Asymmetrique Activity Index                     45.65\n",
       "Asymmetrique Profile Index                      45.65\n",
       "Asymmetrique Activity Score                     45.65\n",
       "Asymmetrique Profile Score                      45.65\n",
       "A free copy of Mastering The Interview           0.00\n",
       "Last Notable Activity                            0.00\n",
       "dtype: float64"
      ]
     },
     "execution_count": 19,
     "metadata": {},
     "output_type": "execute_result"
    }
   ],
   "source": [
    "# find out the percentage of nulls in data frame.\n",
    "round(100*(leads_data.isnull().sum()/len(leads_data.index)), 2)"
   ]
  },
  {
   "cell_type": "raw",
   "metadata": {},
   "source": []
  },
  {
   "cell_type": "markdown",
   "metadata": {},
   "source": [
    "#### **Observations**<br>\n",
    "> The has imputation for the columns as listed below ;\n",
    "  - `Specialization` - Nan and select values are replaced with `unknown` <br>\n",
    "  - `How did you hear about X Education` - Nan and select values replaced with `unknown` and `other` value changed to `others` <br>\n",
    "  - `What is your current occupation` - Nan and select values are replaced with `unknown`<br> \n",
    "  - `What matters most to you in choosing a course` - Nan values are replaced with `not decided`<br>"
   ]
  },
  {
   "cell_type": "markdown",
   "metadata": {},
   "source": [
    "#### 2.2.3 -  Column Lead Quality"
   ]
  },
  {
   "cell_type": "code",
   "execution_count": 20,
   "metadata": {},
   "outputs": [
    {
     "data": {
      "text/plain": [
       "4767"
      ]
     },
     "execution_count": 20,
     "metadata": {},
     "output_type": "execute_result"
    },
    {
     "data": {
      "text/plain": [
       "not sure             5859\n",
       "might be             1560\n",
       "high in relevance     637\n",
       "worst                 601\n",
       "low in relevance      583\n",
       "Name: Lead Quality, dtype: int64"
      ]
     },
     "execution_count": 20,
     "metadata": {},
     "output_type": "execute_result"
    }
   ],
   "source": [
    "#Imputing for column 'Lead Quality'\n",
    "#\n",
    "\n",
    "# Verify the Null values in the column 'Lead Quality'\n",
    "leads_data['Lead Quality'].isnull().sum()\n",
    "\n",
    "# Replace the blank,select and other values values with value 'not sure'.\n",
    "#\n",
    "leads_data.loc[(leads_data['Lead Quality'].isnull()),\n",
    "                           'Lead Quality'] = 'not sure'\n",
    "\n",
    "# check the value counts for 'Lead Quality'\n",
    "leads_data['Lead Quality'].value_counts()"
   ]
  },
  {
   "cell_type": "markdown",
   "metadata": {},
   "source": [
    "#### 2.2.4 - Column Lead Profile"
   ]
  },
  {
   "cell_type": "code",
   "execution_count": 21,
   "metadata": {},
   "outputs": [
    {
     "data": {
      "text/plain": [
       "2709"
      ]
     },
     "execution_count": 21,
     "metadata": {},
     "output_type": "execute_result"
    },
    {
     "data": {
      "text/plain": [
       "unknown                        6855\n",
       "potential lead                 1613\n",
       "other leads                     487\n",
       "student of someschool           241\n",
       "lateral student                  24\n",
       "dual specialization student      20\n",
       "Name: Lead Profile, dtype: int64"
      ]
     },
     "execution_count": 21,
     "metadata": {},
     "output_type": "execute_result"
    }
   ],
   "source": [
    "##### Imputing for column 'Lead Profile'\n",
    "#\n",
    "# Verify the Null values in the column 'Lead Quality'\n",
    "leads_data['Lead Profile'].isnull().sum()\n",
    "\n",
    "# Replace the blank,select values to 'other leads'.\n",
    "#\n",
    "leads_data.loc[(leads_data['Lead Profile'].isnull()),\n",
    "                           'Lead Profile'] = 'unknown'\n",
    "\n",
    "leads_data.loc[(leads_data['Lead Profile'] == 'select'),\n",
    "                           'Lead Profile'] = 'unknown'\n",
    "\n",
    "# check the value counts for 'Lead Profile'\n",
    "leads_data['Lead Profile'].value_counts()"
   ]
  },
  {
   "cell_type": "markdown",
   "metadata": {},
   "source": [
    "#### 2.2.5 - Column City"
   ]
  },
  {
   "cell_type": "code",
   "execution_count": 22,
   "metadata": {},
   "outputs": [
    {
     "data": {
      "text/plain": [
       "mumbai                         3222\n",
       "select                         2249\n",
       "thane & outskirts               752\n",
       "other cities                    686\n",
       "other cities of maharashtra     457\n",
       "other metro cities              380\n",
       "tier ii cities                   74\n",
       "Name: City, dtype: int64"
      ]
     },
     "execution_count": 22,
     "metadata": {},
     "output_type": "execute_result"
    },
    {
     "data": {
      "text/plain": [
       "mumbai                         3974\n",
       "unknown                        3669\n",
       "other cities                    686\n",
       "other cities of maharashtra     457\n",
       "other metro cities              380\n",
       "tier ii cities                   74\n",
       "Name: City, dtype: int64"
      ]
     },
     "execution_count": 22,
     "metadata": {},
     "output_type": "execute_result"
    }
   ],
   "source": [
    "#Imputing for column 'City'\n",
    "#\n",
    "#\n",
    "leads_data['City'].value_counts()\n",
    "\n",
    "#1. Impute Blanks  and Select values to 'unknown'.\n",
    "\n",
    "leads_data.loc[(leads_data['City'].isnull()),'City'] = 'unknown'\n",
    "leads_data.loc[(leads_data['City'] == 'select'),'City'] = 'unknown'\n",
    "\n",
    "#2. Impute Thane & outskirts to Mumbai\n",
    "leads_data.loc[(leads_data['City'] == 'thane & outskirts'),'City'] = 'mumbai'\n",
    "\n",
    "leads_data['City'].value_counts()"
   ]
  },
  {
   "cell_type": "code",
   "execution_count": 23,
   "metadata": {},
   "outputs": [
    {
     "data": {
      "text/plain": [
       "Lead Origin                                      0.00\n",
       "Lead Source                                      0.00\n",
       "Do Not Email                                     0.00\n",
       "Do Not Call                                      0.00\n",
       "Converted                                        0.00\n",
       "TotalVisits                                      1.48\n",
       "Total Time Spent on Website                      0.00\n",
       "Page Views Per Visit                             1.48\n",
       "Last Activity                                    0.00\n",
       "Country                                          0.00\n",
       "Specialization                                   0.00\n",
       "How did you hear about X Education               0.00\n",
       "What is your current occupation                  0.00\n",
       "What matters most to you in choosing a course    0.00\n",
       "Search                                           0.00\n",
       "Newspaper Article                                0.00\n",
       "X Education Forums                               0.00\n",
       "Newspaper                                        0.00\n",
       "Digital Advertisement                            0.00\n",
       "Through Recommendations                          0.00\n",
       "Tags                                             0.00\n",
       "Lead Quality                                     0.00\n",
       "Lead Profile                                     0.00\n",
       "City                                             0.00\n",
       "Asymmetrique Activity Index                     45.65\n",
       "Asymmetrique Profile Index                      45.65\n",
       "Asymmetrique Activity Score                     45.65\n",
       "Asymmetrique Profile Score                      45.65\n",
       "A free copy of Mastering The Interview           0.00\n",
       "Last Notable Activity                            0.00\n",
       "dtype: float64"
      ]
     },
     "execution_count": 23,
     "metadata": {},
     "output_type": "execute_result"
    }
   ],
   "source": [
    "# find out the percentage of nulls in data frame.\n",
    "round(100*(leads_data.isnull().sum()/len(leads_data.index)), 2)"
   ]
  },
  {
   "cell_type": "markdown",
   "metadata": {},
   "source": [
    "#### **Observations**<br>\n",
    "> - The null values for the columns handled as below ;\n",
    "  - `Lead Quality` - Replaced null values with 'not sure'\n",
    "  - `Lead Profile` - Replaced null values and `select` with 'unknown'\n",
    "  - `city`         - Replaced null values, select, to 'unknown' and `Thane & outskirts` to mumbai"
   ]
  },
  {
   "cell_type": "markdown",
   "metadata": {},
   "source": [
    "#### 2.2.6 -  Columns Asymmetrique Activity Index"
   ]
  },
  {
   "cell_type": "code",
   "execution_count": 24,
   "metadata": {},
   "outputs": [
    {
     "data": {
      "text/plain": [
       "02.medium    3839\n",
       "01.high       821\n",
       "03.low        362\n",
       "Name: Asymmetrique Activity Index, dtype: int64"
      ]
     },
     "execution_count": 24,
     "metadata": {},
     "output_type": "execute_result"
    }
   ],
   "source": [
    "# Impute Asymmetrique Activity Index & Asymmetrique Profile Index \n",
    "leads_data['Asymmetrique Activity Index'].value_counts()"
   ]
  },
  {
   "cell_type": "code",
   "execution_count": 25,
   "metadata": {},
   "outputs": [
    {
     "data": {
      "text/plain": [
       "02.medium    3839\n",
       "01.high       821\n",
       "03.low        362\n",
       "Name: Asymmetrique Activity Index, dtype: int64"
      ]
     },
     "execution_count": 25,
     "metadata": {},
     "output_type": "execute_result"
    },
    {
     "data": {
      "text/plain": [
       "0    4218\n",
       "2    3839\n",
       "1     821\n",
       "3     362\n",
       "Name: Asymmetrique Activity Index, dtype: int64"
      ]
     },
     "execution_count": 25,
     "metadata": {},
     "output_type": "execute_result"
    }
   ],
   "source": [
    "#impute values for column 'Asymmetrique Activity Index'       .\n",
    "\n",
    "# Check the value counts\n",
    "leads_data['Asymmetrique Activity Index'].value_counts()\n",
    "\n",
    "# impute other columns 1,2 and 3.\n",
    "leads_data['Asymmetrique Activity Index'] = leads_data['Asymmetrique Activity Index']\\\n",
    "                        .apply({'01.high': '1', '02.medium': '2', '03.low': '3'}.get)\n",
    "\n",
    "# Impute null values to 0\n",
    "leads_data.loc[(leads_data['Asymmetrique Activity Index'].isnull()),\n",
    "                           'Asymmetrique Activity Index'] = 0\n",
    "\n",
    "# Check the value counts.               \n",
    "leads_data['Asymmetrique Activity Index'].value_counts()"
   ]
  },
  {
   "cell_type": "markdown",
   "metadata": {},
   "source": [
    "#### 2.2.7 -  Columns Asymmetrique Profile Index"
   ]
  },
  {
   "cell_type": "code",
   "execution_count": 26,
   "metadata": {},
   "outputs": [
    {
     "data": {
      "text/plain": [
       "02.medium    2788\n",
       "01.high      2203\n",
       "03.low         31\n",
       "Name: Asymmetrique Profile Index, dtype: int64"
      ]
     },
     "execution_count": 26,
     "metadata": {},
     "output_type": "execute_result"
    },
    {
     "data": {
      "text/plain": [
       "0    4218\n",
       "2    2788\n",
       "1    2203\n",
       "3      31\n",
       "Name: Asymmetrique Profile Index, dtype: int64"
      ]
     },
     "execution_count": 26,
     "metadata": {},
     "output_type": "execute_result"
    }
   ],
   "source": [
    "#impute values for column 'Asymmetrique Profile Index  '       .\n",
    "\n",
    "# Check the original value counts.\n",
    "leads_data['Asymmetrique Profile Index'].value_counts()\n",
    "\n",
    "# impute other columns 1,2 and 3.\n",
    "leads_data['Asymmetrique Profile Index'] = leads_data['Asymmetrique Profile Index']\\\n",
    "                        .apply({'01.high': '1', '02.medium': '2', '03.low': '3'}.get)\n",
    "\n",
    "# Impute null values to 0\n",
    "leads_data.loc[(leads_data['Asymmetrique Profile Index'].isnull()),\n",
    "                           'Asymmetrique Profile Index'] = 0\n",
    "\n",
    "# Check the value counts.               \n",
    "leads_data['Asymmetrique Profile Index'].value_counts()"
   ]
  },
  {
   "cell_type": "code",
   "execution_count": 27,
   "metadata": {},
   "outputs": [
    {
     "data": {
      "text/plain": [
       "Lead Origin                                      0.00\n",
       "Lead Source                                      0.00\n",
       "Do Not Email                                     0.00\n",
       "Do Not Call                                      0.00\n",
       "Converted                                        0.00\n",
       "TotalVisits                                      1.48\n",
       "Total Time Spent on Website                      0.00\n",
       "Page Views Per Visit                             1.48\n",
       "Last Activity                                    0.00\n",
       "Country                                          0.00\n",
       "Specialization                                   0.00\n",
       "How did you hear about X Education               0.00\n",
       "What is your current occupation                  0.00\n",
       "What matters most to you in choosing a course    0.00\n",
       "Search                                           0.00\n",
       "Newspaper Article                                0.00\n",
       "X Education Forums                               0.00\n",
       "Newspaper                                        0.00\n",
       "Digital Advertisement                            0.00\n",
       "Through Recommendations                          0.00\n",
       "Tags                                             0.00\n",
       "Lead Quality                                     0.00\n",
       "Lead Profile                                     0.00\n",
       "City                                             0.00\n",
       "Asymmetrique Activity Index                      0.00\n",
       "Asymmetrique Profile Index                       0.00\n",
       "Asymmetrique Activity Score                     45.65\n",
       "Asymmetrique Profile Score                      45.65\n",
       "A free copy of Mastering The Interview           0.00\n",
       "Last Notable Activity                            0.00\n",
       "dtype: float64"
      ]
     },
     "execution_count": 27,
     "metadata": {},
     "output_type": "execute_result"
    }
   ],
   "source": [
    "# find out the percentage of nulls in data frame.\n",
    "round(100*(leads_data.isnull().sum()/len(leads_data.index)), 2)"
   ]
  },
  {
   "cell_type": "markdown",
   "metadata": {},
   "source": [
    "#### **Observations**<br>\n",
    "- The columns `Asymmetrique Activity Index` and `Asymmetrique Profile Index` null values are replaced as 0 and the rest of High,medium and low values are converted to 1 ,2 and 3 respectively."
   ]
  },
  {
   "cell_type": "markdown",
   "metadata": {},
   "source": [
    "### Step 2.3: Imputation of Null values for Numerical Columns"
   ]
  },
  {
   "cell_type": "code",
   "execution_count": 28,
   "metadata": {},
   "outputs": [],
   "source": [
    "# ['TotalVisits','Page Views Per Visit',\n",
    "#               'Asymmetrique Activity Score','Asymmetrique Profile Score'  ]"
   ]
  },
  {
   "cell_type": "markdown",
   "metadata": {},
   "source": [
    "#### 2.3.1. -  Verify the Percentiles of Numeric Variables to view outliers"
   ]
  },
  {
   "cell_type": "code",
   "execution_count": 29,
   "metadata": {},
   "outputs": [
    {
     "data": {
      "text/html": [
       "<div>\n",
       "<style scoped>\n",
       "    .dataframe tbody tr th:only-of-type {\n",
       "        vertical-align: middle;\n",
       "    }\n",
       "\n",
       "    .dataframe tbody tr th {\n",
       "        vertical-align: top;\n",
       "    }\n",
       "\n",
       "    .dataframe thead th {\n",
       "        text-align: right;\n",
       "    }\n",
       "</style>\n",
       "<table border=\"1\" class=\"dataframe\">\n",
       "  <thead>\n",
       "    <tr style=\"text-align: right;\">\n",
       "      <th></th>\n",
       "      <th>Converted</th>\n",
       "      <th>TotalVisits</th>\n",
       "      <th>Total Time Spent on Website</th>\n",
       "      <th>Page Views Per Visit</th>\n",
       "      <th>Asymmetrique Activity Score</th>\n",
       "      <th>Asymmetrique Profile Score</th>\n",
       "    </tr>\n",
       "  </thead>\n",
       "  <tbody>\n",
       "    <tr>\n",
       "      <th>count</th>\n",
       "      <td>9,240.00</td>\n",
       "      <td>9,103.00</td>\n",
       "      <td>9,240.00</td>\n",
       "      <td>9,103.00</td>\n",
       "      <td>5,022.00</td>\n",
       "      <td>5,022.00</td>\n",
       "    </tr>\n",
       "    <tr>\n",
       "      <th>mean</th>\n",
       "      <td>0.39</td>\n",
       "      <td>3.45</td>\n",
       "      <td>487.70</td>\n",
       "      <td>2.36</td>\n",
       "      <td>14.31</td>\n",
       "      <td>16.34</td>\n",
       "    </tr>\n",
       "    <tr>\n",
       "      <th>std</th>\n",
       "      <td>0.49</td>\n",
       "      <td>4.85</td>\n",
       "      <td>548.02</td>\n",
       "      <td>2.16</td>\n",
       "      <td>1.39</td>\n",
       "      <td>1.81</td>\n",
       "    </tr>\n",
       "    <tr>\n",
       "      <th>min</th>\n",
       "      <td>0.00</td>\n",
       "      <td>0.00</td>\n",
       "      <td>0.00</td>\n",
       "      <td>0.00</td>\n",
       "      <td>7.00</td>\n",
       "      <td>11.00</td>\n",
       "    </tr>\n",
       "    <tr>\n",
       "      <th>20%</th>\n",
       "      <td>0.00</td>\n",
       "      <td>0.00</td>\n",
       "      <td>0.00</td>\n",
       "      <td>0.00</td>\n",
       "      <td>13.00</td>\n",
       "      <td>15.00</td>\n",
       "    </tr>\n",
       "    <tr>\n",
       "      <th>25%</th>\n",
       "      <td>0.00</td>\n",
       "      <td>1.00</td>\n",
       "      <td>12.00</td>\n",
       "      <td>1.00</td>\n",
       "      <td>14.00</td>\n",
       "      <td>15.00</td>\n",
       "    </tr>\n",
       "    <tr>\n",
       "      <th>40%</th>\n",
       "      <td>0.00</td>\n",
       "      <td>2.00</td>\n",
       "      <td>146.00</td>\n",
       "      <td>2.00</td>\n",
       "      <td>14.00</td>\n",
       "      <td>15.00</td>\n",
       "    </tr>\n",
       "    <tr>\n",
       "      <th>50%</th>\n",
       "      <td>0.00</td>\n",
       "      <td>3.00</td>\n",
       "      <td>248.00</td>\n",
       "      <td>2.00</td>\n",
       "      <td>14.00</td>\n",
       "      <td>16.00</td>\n",
       "    </tr>\n",
       "    <tr>\n",
       "      <th>60%</th>\n",
       "      <td>0.00</td>\n",
       "      <td>3.00</td>\n",
       "      <td>372.00</td>\n",
       "      <td>2.50</td>\n",
       "      <td>15.00</td>\n",
       "      <td>17.00</td>\n",
       "    </tr>\n",
       "    <tr>\n",
       "      <th>75%</th>\n",
       "      <td>1.00</td>\n",
       "      <td>5.00</td>\n",
       "      <td>936.00</td>\n",
       "      <td>3.00</td>\n",
       "      <td>15.00</td>\n",
       "      <td>18.00</td>\n",
       "    </tr>\n",
       "    <tr>\n",
       "      <th>80%</th>\n",
       "      <td>1.00</td>\n",
       "      <td>5.00</td>\n",
       "      <td>1,087.20</td>\n",
       "      <td>4.00</td>\n",
       "      <td>15.00</td>\n",
       "      <td>18.00</td>\n",
       "    </tr>\n",
       "    <tr>\n",
       "      <th>90%</th>\n",
       "      <td>1.00</td>\n",
       "      <td>7.00</td>\n",
       "      <td>1,380.00</td>\n",
       "      <td>5.00</td>\n",
       "      <td>16.00</td>\n",
       "      <td>19.00</td>\n",
       "    </tr>\n",
       "    <tr>\n",
       "      <th>95%</th>\n",
       "      <td>1.00</td>\n",
       "      <td>10.00</td>\n",
       "      <td>1,562.00</td>\n",
       "      <td>6.00</td>\n",
       "      <td>17.00</td>\n",
       "      <td>20.00</td>\n",
       "    </tr>\n",
       "    <tr>\n",
       "      <th>99%</th>\n",
       "      <td>1.00</td>\n",
       "      <td>17.00</td>\n",
       "      <td>1,840.61</td>\n",
       "      <td>9.00</td>\n",
       "      <td>17.00</td>\n",
       "      <td>20.00</td>\n",
       "    </tr>\n",
       "    <tr>\n",
       "      <th>max</th>\n",
       "      <td>1.00</td>\n",
       "      <td>251.00</td>\n",
       "      <td>2,272.00</td>\n",
       "      <td>55.00</td>\n",
       "      <td>18.00</td>\n",
       "      <td>20.00</td>\n",
       "    </tr>\n",
       "  </tbody>\n",
       "</table>\n",
       "</div>"
      ],
      "text/plain": [
       "       Converted  TotalVisits  Total Time Spent on Website  \\\n",
       "count   9,240.00     9,103.00                     9,240.00   \n",
       "mean        0.39         3.45                       487.70   \n",
       "std         0.49         4.85                       548.02   \n",
       "min         0.00         0.00                         0.00   \n",
       "20%         0.00         0.00                         0.00   \n",
       "25%         0.00         1.00                        12.00   \n",
       "40%         0.00         2.00                       146.00   \n",
       "50%         0.00         3.00                       248.00   \n",
       "60%         0.00         3.00                       372.00   \n",
       "75%         1.00         5.00                       936.00   \n",
       "80%         1.00         5.00                     1,087.20   \n",
       "90%         1.00         7.00                     1,380.00   \n",
       "95%         1.00        10.00                     1,562.00   \n",
       "99%         1.00        17.00                     1,840.61   \n",
       "max         1.00       251.00                     2,272.00   \n",
       "\n",
       "       Page Views Per Visit  Asymmetrique Activity Score  \\\n",
       "count              9,103.00                     5,022.00   \n",
       "mean                   2.36                        14.31   \n",
       "std                    2.16                         1.39   \n",
       "min                    0.00                         7.00   \n",
       "20%                    0.00                        13.00   \n",
       "25%                    1.00                        14.00   \n",
       "40%                    2.00                        14.00   \n",
       "50%                    2.00                        14.00   \n",
       "60%                    2.50                        15.00   \n",
       "75%                    3.00                        15.00   \n",
       "80%                    4.00                        15.00   \n",
       "90%                    5.00                        16.00   \n",
       "95%                    6.00                        17.00   \n",
       "99%                    9.00                        17.00   \n",
       "max                   55.00                        18.00   \n",
       "\n",
       "       Asymmetrique Profile Score  \n",
       "count                    5,022.00  \n",
       "mean                        16.34  \n",
       "std                          1.81  \n",
       "min                         11.00  \n",
       "20%                         15.00  \n",
       "25%                         15.00  \n",
       "40%                         15.00  \n",
       "50%                         16.00  \n",
       "60%                         17.00  \n",
       "75%                         18.00  \n",
       "80%                         18.00  \n",
       "90%                         19.00  \n",
       "95%                         20.00  \n",
       "99%                         20.00  \n",
       "max                         20.00  "
      ]
     },
     "execution_count": 29,
     "metadata": {},
     "output_type": "execute_result"
    }
   ],
   "source": [
    "# Numerical Variable percentile list \n",
    "perc =[.20,.25, .40, .60, .75,.80,.90,.95,.99] \n",
    "leads_data.describe(percentiles=perc)"
   ]
  },
  {
   "cell_type": "markdown",
   "metadata": {},
   "source": [
    "#### 2.3.2 -  Replace Null values from column 'Asymmetrique Activity Score' with mean value."
   ]
  },
  {
   "cell_type": "code",
   "execution_count": 30,
   "metadata": {},
   "outputs": [
    {
     "data": {
      "text/plain": [
       "4218"
      ]
     },
     "execution_count": 30,
     "metadata": {},
     "output_type": "execute_result"
    },
    {
     "data": {
      "text/plain": [
       "14.00    1771\n",
       "15.00    1293\n",
       "13.00     775\n",
       "16.00     467\n",
       "17.00     349\n",
       "12.00     196\n",
       "11.00      95\n",
       "10.00      57\n",
       "9.00        9\n",
       "18.00       5\n",
       "8.00        4\n",
       "7.00        1\n",
       "Name: Asymmetrique Activity Score, dtype: int64"
      ]
     },
     "execution_count": 30,
     "metadata": {},
     "output_type": "execute_result"
    }
   ],
   "source": [
    "# Check the Null values in Asymmetrique Activity Score.\n",
    "leads_data['Asymmetrique Activity Score'].isnull().sum()\n",
    "\n",
    "# Check the value counts\n",
    "leads_data['Asymmetrique Activity Score'].value_counts()"
   ]
  },
  {
   "cell_type": "code",
   "execution_count": 31,
   "metadata": {},
   "outputs": [
    {
     "data": {
      "text/plain": [
       "14.0"
      ]
     },
     "execution_count": 31,
     "metadata": {},
     "output_type": "execute_result"
    }
   ],
   "source": [
    "# The mean value of column 'Asymmetrique Activity Score'.\n",
    "means_asym_activity = round(leads_data['Asymmetrique Activity Score'].mean(),0)\n",
    "means_asym_activity"
   ]
  },
  {
   "cell_type": "code",
   "execution_count": 32,
   "metadata": {},
   "outputs": [],
   "source": [
    "# Replace Null columns with Mean values.\n",
    "leads_data['Asymmetrique Activity Score'].fillna(means_asym_activity,inplace=True)"
   ]
  },
  {
   "cell_type": "code",
   "execution_count": 33,
   "metadata": {},
   "outputs": [
    {
     "data": {
      "text/plain": [
       "14.00    5989\n",
       "15.00    1293\n",
       "13.00     775\n",
       "16.00     467\n",
       "17.00     349\n",
       "12.00     196\n",
       "11.00      95\n",
       "10.00      57\n",
       "9.00        9\n",
       "18.00       5\n",
       "8.00        4\n",
       "7.00        1\n",
       "Name: Asymmetrique Activity Score, dtype: int64"
      ]
     },
     "execution_count": 33,
     "metadata": {},
     "output_type": "execute_result"
    }
   ],
   "source": [
    "# Check the value counts after imputations.\n",
    "leads_data['Asymmetrique Activity Score'].value_counts()"
   ]
  },
  {
   "cell_type": "markdown",
   "metadata": {},
   "source": [
    "#### 2.3.3 -  Replace Null values from column 'Asymmetrique Profile Score' with mean value."
   ]
  },
  {
   "cell_type": "code",
   "execution_count": 34,
   "metadata": {},
   "outputs": [
    {
     "data": {
      "text/plain": [
       "4218"
      ]
     },
     "execution_count": 34,
     "metadata": {},
     "output_type": "execute_result"
    },
    {
     "data": {
      "text/plain": [
       "15.00    1759\n",
       "18.00    1071\n",
       "16.00     599\n",
       "17.00     579\n",
       "20.00     308\n",
       "19.00     245\n",
       "14.00     226\n",
       "13.00     204\n",
       "12.00      22\n",
       "11.00       9\n",
       "Name: Asymmetrique Profile Score, dtype: int64"
      ]
     },
     "execution_count": 34,
     "metadata": {},
     "output_type": "execute_result"
    }
   ],
   "source": [
    "# Check the Null values in Asymmetrique Activity Score.\n",
    "leads_data['Asymmetrique Profile Score'].isnull().sum()\n",
    "\n",
    "# Check the value counts\n",
    "leads_data['Asymmetrique Profile Score'].value_counts()"
   ]
  },
  {
   "cell_type": "code",
   "execution_count": 35,
   "metadata": {},
   "outputs": [
    {
     "data": {
      "text/plain": [
       "16.0"
      ]
     },
     "execution_count": 35,
     "metadata": {},
     "output_type": "execute_result"
    }
   ],
   "source": [
    "# The mean value of column 'Asymmetrique Activity Score'.\n",
    "means_asym_profile = round(leads_data['Asymmetrique Profile Score'].mean(),0)\n",
    "means_asym_profile"
   ]
  },
  {
   "cell_type": "code",
   "execution_count": 36,
   "metadata": {},
   "outputs": [],
   "source": [
    "# Replace Null columns with Mean values.\n",
    "leads_data['Asymmetrique Profile Score'].fillna(means_asym_profile,inplace=True)"
   ]
  },
  {
   "cell_type": "code",
   "execution_count": 37,
   "metadata": {},
   "outputs": [
    {
     "data": {
      "text/plain": [
       "16.00    4817\n",
       "15.00    1759\n",
       "18.00    1071\n",
       "17.00     579\n",
       "20.00     308\n",
       "19.00     245\n",
       "14.00     226\n",
       "13.00     204\n",
       "12.00      22\n",
       "11.00       9\n",
       "Name: Asymmetrique Profile Score, dtype: int64"
      ]
     },
     "execution_count": 37,
     "metadata": {},
     "output_type": "execute_result"
    }
   ],
   "source": [
    "# Check the value counts after imputations.\n",
    "leads_data['Asymmetrique Profile Score'].value_counts()"
   ]
  },
  {
   "cell_type": "code",
   "execution_count": 38,
   "metadata": {},
   "outputs": [
    {
     "data": {
      "text/html": [
       "<div>\n",
       "<style scoped>\n",
       "    .dataframe tbody tr th:only-of-type {\n",
       "        vertical-align: middle;\n",
       "    }\n",
       "\n",
       "    .dataframe tbody tr th {\n",
       "        vertical-align: top;\n",
       "    }\n",
       "\n",
       "    .dataframe thead th {\n",
       "        text-align: right;\n",
       "    }\n",
       "</style>\n",
       "<table border=\"1\" class=\"dataframe\">\n",
       "  <thead>\n",
       "    <tr style=\"text-align: right;\">\n",
       "      <th></th>\n",
       "      <th>Converted</th>\n",
       "      <th>TotalVisits</th>\n",
       "      <th>Total Time Spent on Website</th>\n",
       "      <th>Page Views Per Visit</th>\n",
       "      <th>Asymmetrique Activity Score</th>\n",
       "      <th>Asymmetrique Profile Score</th>\n",
       "    </tr>\n",
       "  </thead>\n",
       "  <tbody>\n",
       "    <tr>\n",
       "      <th>count</th>\n",
       "      <td>9,240.00</td>\n",
       "      <td>9,103.00</td>\n",
       "      <td>9,240.00</td>\n",
       "      <td>9,103.00</td>\n",
       "      <td>9,240.00</td>\n",
       "      <td>9,240.00</td>\n",
       "    </tr>\n",
       "    <tr>\n",
       "      <th>mean</th>\n",
       "      <td>0.39</td>\n",
       "      <td>3.45</td>\n",
       "      <td>487.70</td>\n",
       "      <td>2.36</td>\n",
       "      <td>14.17</td>\n",
       "      <td>16.19</td>\n",
       "    </tr>\n",
       "    <tr>\n",
       "      <th>std</th>\n",
       "      <td>0.49</td>\n",
       "      <td>4.85</td>\n",
       "      <td>548.02</td>\n",
       "      <td>2.16</td>\n",
       "      <td>1.03</td>\n",
       "      <td>1.35</td>\n",
       "    </tr>\n",
       "    <tr>\n",
       "      <th>min</th>\n",
       "      <td>0.00</td>\n",
       "      <td>0.00</td>\n",
       "      <td>0.00</td>\n",
       "      <td>0.00</td>\n",
       "      <td>7.00</td>\n",
       "      <td>11.00</td>\n",
       "    </tr>\n",
       "    <tr>\n",
       "      <th>20%</th>\n",
       "      <td>0.00</td>\n",
       "      <td>0.00</td>\n",
       "      <td>0.00</td>\n",
       "      <td>0.00</td>\n",
       "      <td>14.00</td>\n",
       "      <td>15.00</td>\n",
       "    </tr>\n",
       "    <tr>\n",
       "      <th>25%</th>\n",
       "      <td>0.00</td>\n",
       "      <td>1.00</td>\n",
       "      <td>12.00</td>\n",
       "      <td>1.00</td>\n",
       "      <td>14.00</td>\n",
       "      <td>16.00</td>\n",
       "    </tr>\n",
       "    <tr>\n",
       "      <th>40%</th>\n",
       "      <td>0.00</td>\n",
       "      <td>2.00</td>\n",
       "      <td>146.00</td>\n",
       "      <td>2.00</td>\n",
       "      <td>14.00</td>\n",
       "      <td>16.00</td>\n",
       "    </tr>\n",
       "    <tr>\n",
       "      <th>50%</th>\n",
       "      <td>0.00</td>\n",
       "      <td>3.00</td>\n",
       "      <td>248.00</td>\n",
       "      <td>2.00</td>\n",
       "      <td>14.00</td>\n",
       "      <td>16.00</td>\n",
       "    </tr>\n",
       "    <tr>\n",
       "      <th>60%</th>\n",
       "      <td>0.00</td>\n",
       "      <td>3.00</td>\n",
       "      <td>372.00</td>\n",
       "      <td>2.50</td>\n",
       "      <td>14.00</td>\n",
       "      <td>16.00</td>\n",
       "    </tr>\n",
       "    <tr>\n",
       "      <th>75%</th>\n",
       "      <td>1.00</td>\n",
       "      <td>5.00</td>\n",
       "      <td>936.00</td>\n",
       "      <td>3.00</td>\n",
       "      <td>14.00</td>\n",
       "      <td>16.00</td>\n",
       "    </tr>\n",
       "    <tr>\n",
       "      <th>80%</th>\n",
       "      <td>1.00</td>\n",
       "      <td>5.00</td>\n",
       "      <td>1,087.20</td>\n",
       "      <td>4.00</td>\n",
       "      <td>15.00</td>\n",
       "      <td>17.00</td>\n",
       "    </tr>\n",
       "    <tr>\n",
       "      <th>90%</th>\n",
       "      <td>1.00</td>\n",
       "      <td>7.00</td>\n",
       "      <td>1,380.00</td>\n",
       "      <td>5.00</td>\n",
       "      <td>15.00</td>\n",
       "      <td>18.00</td>\n",
       "    </tr>\n",
       "    <tr>\n",
       "      <th>95%</th>\n",
       "      <td>1.00</td>\n",
       "      <td>10.00</td>\n",
       "      <td>1,562.00</td>\n",
       "      <td>6.00</td>\n",
       "      <td>16.00</td>\n",
       "      <td>19.00</td>\n",
       "    </tr>\n",
       "    <tr>\n",
       "      <th>99%</th>\n",
       "      <td>1.00</td>\n",
       "      <td>17.00</td>\n",
       "      <td>1,840.61</td>\n",
       "      <td>9.00</td>\n",
       "      <td>17.00</td>\n",
       "      <td>20.00</td>\n",
       "    </tr>\n",
       "    <tr>\n",
       "      <th>max</th>\n",
       "      <td>1.00</td>\n",
       "      <td>251.00</td>\n",
       "      <td>2,272.00</td>\n",
       "      <td>55.00</td>\n",
       "      <td>18.00</td>\n",
       "      <td>20.00</td>\n",
       "    </tr>\n",
       "  </tbody>\n",
       "</table>\n",
       "</div>"
      ],
      "text/plain": [
       "       Converted  TotalVisits  Total Time Spent on Website  \\\n",
       "count   9,240.00     9,103.00                     9,240.00   \n",
       "mean        0.39         3.45                       487.70   \n",
       "std         0.49         4.85                       548.02   \n",
       "min         0.00         0.00                         0.00   \n",
       "20%         0.00         0.00                         0.00   \n",
       "25%         0.00         1.00                        12.00   \n",
       "40%         0.00         2.00                       146.00   \n",
       "50%         0.00         3.00                       248.00   \n",
       "60%         0.00         3.00                       372.00   \n",
       "75%         1.00         5.00                       936.00   \n",
       "80%         1.00         5.00                     1,087.20   \n",
       "90%         1.00         7.00                     1,380.00   \n",
       "95%         1.00        10.00                     1,562.00   \n",
       "99%         1.00        17.00                     1,840.61   \n",
       "max         1.00       251.00                     2,272.00   \n",
       "\n",
       "       Page Views Per Visit  Asymmetrique Activity Score  \\\n",
       "count              9,103.00                     9,240.00   \n",
       "mean                   2.36                        14.17   \n",
       "std                    2.16                         1.03   \n",
       "min                    0.00                         7.00   \n",
       "20%                    0.00                        14.00   \n",
       "25%                    1.00                        14.00   \n",
       "40%                    2.00                        14.00   \n",
       "50%                    2.00                        14.00   \n",
       "60%                    2.50                        14.00   \n",
       "75%                    3.00                        14.00   \n",
       "80%                    4.00                        15.00   \n",
       "90%                    5.00                        15.00   \n",
       "95%                    6.00                        16.00   \n",
       "99%                    9.00                        17.00   \n",
       "max                   55.00                        18.00   \n",
       "\n",
       "       Asymmetrique Profile Score  \n",
       "count                    9,240.00  \n",
       "mean                        16.19  \n",
       "std                          1.35  \n",
       "min                         11.00  \n",
       "20%                         15.00  \n",
       "25%                         16.00  \n",
       "40%                         16.00  \n",
       "50%                         16.00  \n",
       "60%                         16.00  \n",
       "75%                         16.00  \n",
       "80%                         17.00  \n",
       "90%                         18.00  \n",
       "95%                         19.00  \n",
       "99%                         20.00  \n",
       "max                         20.00  "
      ]
     },
     "execution_count": 38,
     "metadata": {},
     "output_type": "execute_result"
    }
   ],
   "source": [
    "# Numerical Variable percentile list \n",
    "perc =[.20,.25, .40, .60, .75,.80,.90,.95,.99] \n",
    "leads_data.describe(percentiles=perc)"
   ]
  },
  {
   "cell_type": "code",
   "execution_count": 39,
   "metadata": {},
   "outputs": [
    {
     "data": {
      "text/plain": [
       "Lead Origin                                     0.00\n",
       "Lead Source                                     0.00\n",
       "Do Not Email                                    0.00\n",
       "Do Not Call                                     0.00\n",
       "Converted                                       0.00\n",
       "TotalVisits                                     1.48\n",
       "Total Time Spent on Website                     0.00\n",
       "Page Views Per Visit                            1.48\n",
       "Last Activity                                   0.00\n",
       "Country                                         0.00\n",
       "Specialization                                  0.00\n",
       "How did you hear about X Education              0.00\n",
       "What is your current occupation                 0.00\n",
       "What matters most to you in choosing a course   0.00\n",
       "Search                                          0.00\n",
       "Newspaper Article                               0.00\n",
       "X Education Forums                              0.00\n",
       "Newspaper                                       0.00\n",
       "Digital Advertisement                           0.00\n",
       "Through Recommendations                         0.00\n",
       "Tags                                            0.00\n",
       "Lead Quality                                    0.00\n",
       "Lead Profile                                    0.00\n",
       "City                                            0.00\n",
       "Asymmetrique Activity Index                     0.00\n",
       "Asymmetrique Profile Index                      0.00\n",
       "Asymmetrique Activity Score                     0.00\n",
       "Asymmetrique Profile Score                      0.00\n",
       "A free copy of Mastering The Interview          0.00\n",
       "Last Notable Activity                           0.00\n",
       "dtype: float64"
      ]
     },
     "execution_count": 39,
     "metadata": {},
     "output_type": "execute_result"
    }
   ],
   "source": [
    "# find out the percentage of nulls in data frame.\n",
    "round(100*(leads_data.isnull().sum()/len(leads_data.index)), 2)"
   ]
  },
  {
   "cell_type": "markdown",
   "metadata": {},
   "source": [
    "#### **Observations**<br>\n",
    "> Finally the numeric columns `Asymmetrique Activity Score` and `Asymmetrique Profile Score` null values are replaced by the mean of value of the column."
   ]
  },
  {
   "cell_type": "code",
   "execution_count": 40,
   "metadata": {},
   "outputs": [],
   "source": [
    "leads_data.to_csv('leads_data_verify.csv')"
   ]
  },
  {
   "cell_type": "markdown",
   "metadata": {},
   "source": [
    "## 3. Data Analysis"
   ]
  },
  {
   "cell_type": "markdown",
   "metadata": {},
   "source": [
    "### 3.1 Univariate Analysis <br>"
   ]
  },
  {
   "cell_type": "code",
   "execution_count": 45,
   "metadata": {},
   "outputs": [],
   "source": [
    "%matplotlib inline\n",
    "import warnings\n",
    "\n",
    "sns.set()\n",
    "sns.set(style=\"whitegrid\",palette='muted',color_codes=True)"
   ]
  },
  {
   "cell_type": "code",
   "execution_count": null,
   "metadata": {},
   "outputs": [],
   "source": [
    "## Verify all the numeric variables for the outliers.\n"
   ]
  },
  {
   "cell_type": "code",
   "execution_count": 53,
   "metadata": {},
   "outputs": [
    {
     "data": {
      "image/png": "[encoded data removed]",
      "text/plain": [
       "<Figure size 432x288 with 1 Axes>"
      ]
     },
     "metadata": {},
     "output_type": "display_data"
    }
   ],
   "source": [
    "# Analyse visually the converted target field.\n",
    "\n",
    "# Univariate Analysis - Plot -1\n",
    "#\n",
    "f, ax = plt.subplots(figsize=(6, 4))\n",
    "ax =sns.countplot(x=\"Converted\",data = leads_data,palette='muted')\n",
    "Title='Plot-1 - Converted Frequency'\n",
    "ax.set_title(Title,fontdict={'fontsize':12,'fontweight':'bold'},loc='center',pad=20)\n",
    "ax.set_xlabel(\"Converted\")\n",
    "ax.set_ylabel(\"Count\")\n",
    "\n",
    "#Annotations.\n",
    "total = float(len(leads_data))\n",
    "for p in ax.patches:\n",
    "    height = p.get_height()\n",
    "    ax.text(p.get_x()+p.get_width()/2.,\n",
    "            height + 3,\n",
    "            '{0:.0%}'.format(height/total),\n",
    "            ha=\"center\") \n",
    "        \n",
    "plt.show();"
   ]
  },
  {
   "cell_type": "markdown",
   "metadata": {},
   "source": [
    "#### **Observations**<br>\n",
    "> - The `conversion rate` is only `39%` and `61% are failed conversion`.\n",
    "> - The goal is to increasing the conversion rate by identifying the potential leads termed as 'Hot Leads' and in future by communicating  effectively with these leads instead of calling customers directly."
   ]
  },
  {
   "cell_type": "code",
   "execution_count": null,
   "metadata": {},
   "outputs": [],
   "source": []
  }
 ],
 "metadata": {
  "kernelspec": {
   "display_name": "Python 3",
   "language": "python",
   "name": "python3"
  },
  "language_info": {
   "codemirror_mode": {
    "name": "ipython",
    "version": 3
   },
   "file_extension": ".py",
   "mimetype": "text/x-python",
   "name": "python",
   "nbconvert_exporter": "python",
   "pygments_lexer": "ipython3",
   "version": "3.6.5"
  }
 },
 "nbformat": 4,
 "nbformat_minor": 2
}
